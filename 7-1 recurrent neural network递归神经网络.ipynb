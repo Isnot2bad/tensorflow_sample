{
 "cells": [
  {
   "cell_type": "code",
   "execution_count": 1,
   "metadata": {},
   "outputs": [],
   "source": [
    "import tensorflow as tf\n",
    "from tensorflow.examples.tutorials.mnist import input_data"
   ]
  },
  {
   "cell_type": "code",
   "execution_count": 2,
   "metadata": {},
   "outputs": [
    {
     "name": "stdout",
     "output_type": "stream",
     "text": [
      "Extracting MNIST_data/train-images-idx3-ubyte.gz\n",
      "Extracting MNIST_data/train-labels-idx1-ubyte.gz\n",
      "Extracting MNIST_data/t10k-images-idx3-ubyte.gz\n",
      "Extracting MNIST_data/t10k-labels-idx1-ubyte.gz\n",
      "Iter0, testing accuracy=0.7387\n",
      "Iter1, testing accuracy=0.8508\n",
      "Iter2, testing accuracy=0.8819\n",
      "Iter3, testing accuracy=0.9023\n",
      "Iter4, testing accuracy=0.9161\n",
      "Iter5, testing accuracy=0.9223\n"
     ]
    }
   ],
   "source": [
    "#载入数据\n",
    "mnist=input_data.read_data_sets('MNIST_data/',one_hot=True)\n",
    "\n",
    "# 输入图片28*28\n",
    "n_inputs=28 #输入一行 一行有28个数据\n",
    "max_time=28 #一共28行\n",
    "lstm_size=100 #隐藏单元\n",
    "n_classes=10 #十个分类\n",
    "batch_size=50 #批次五十个样本\n",
    "n_batch=mnist.train.num_examples//batch_size #计算一共多少批次\n",
    "\n",
    "x=tf.placeholder(tf.float32,[None,784])\n",
    "y=tf.placeholder(tf.float32,[None,10])\n",
    "\n",
    "#初始化权值\n",
    "weights=tf.Variable(tf.truncated_normal([lstm_size,n_classes],stddev=0.1))\n",
    "#初始化偏置值\n",
    "biases=tf.Variable(tf.constant(0.1,shape=[n_classes]))\n",
    "\n",
    "#定义RNN网络\n",
    "def RNN(X,weights,biases):\n",
    "    #inputs=[batch_size,max_time,n_inputs]\n",
    "    inputs=tf.reshape(X,[-1,max_time,n_inputs])\n",
    "    #定义LSTM基本CELL\n",
    "    lstm_cell=tf.contrib.rnn.core_rnn_cell.BasicLSTMCell(lstm_size) \n",
    "    #final_state[0] cell state\n",
    "    #final_state[1] hidden_state\n",
    "    outputs,final_states=tf.nn.dynamic_rnn(lstm_cell,inputs,dtype=tf.float32)\n",
    "    results=tf.nn.softmax(tf.matmul(final_states[1],weights)+biases)\n",
    "    return results\n",
    "\n",
    "#计算RNN返回结果\n",
    "prediction=RNN(x,weights,biases)\n",
    "\n",
    "#损失函数\n",
    "cross_entropy=tf.reduce_mean(tf.nn.softmax_cross_entropy_with_logits(logits=prediction,labels=y))\n",
    "\n",
    "#使用adamoptimizer优化\n",
    "train_step=tf.train.AdamOptimizer(1e-4).minimize(cross_entropy)\n",
    "\n",
    "#结果存放在布尔型列表中  定义准确率 比较两个agrmax大小，相同就是TRUE 不同就是FALSE。 argmax求最大值所在位置\n",
    "correct_prediction=tf.equal(tf.argmax(y,1),tf.argmax(prediction,1))\n",
    "\n",
    "#求准确率 (tf.cast()将布尔型数据转化成数值型 然后计算准确率)\n",
    "accuracy=tf.reduce_mean(tf.cast(correct_prediction,tf.float32))\n",
    "\n",
    "init=tf.global_variables_initializer()\n",
    "\n",
    "with tf.Session() as sess:\n",
    "    sess.run(init)\n",
    "    for epoch in range(6):\n",
    "        for batch in range(n_batch):\n",
    "            batch_xs,batch_ys=mnist.train.next_batch(batch_size)\n",
    "            sess.run(train_step,feed_dict={x:batch_xs,y:batch_ys})\n",
    "            \n",
    "        acc=sess.run(accuracy,feed_dict={x:mnist.test.images,y:mnist.test.labels})\n",
    "        print (\"Iter\"+str(epoch)+\", testing accuracy=\"+str(acc))"
   ]
  },
  {
   "cell_type": "code",
   "execution_count": null,
   "metadata": {},
   "outputs": [],
   "source": []
  }
 ],
 "metadata": {
  "kernelspec": {
   "display_name": "Python 3",
   "language": "python",
   "name": "python3"
  },
  "language_info": {
   "codemirror_mode": {
    "name": "ipython",
    "version": 3
   },
   "file_extension": ".py",
   "mimetype": "text/x-python",
   "name": "python",
   "nbconvert_exporter": "python",
   "pygments_lexer": "ipython3",
   "version": "3.6.4"
  }
 },
 "nbformat": 4,
 "nbformat_minor": 2
}
