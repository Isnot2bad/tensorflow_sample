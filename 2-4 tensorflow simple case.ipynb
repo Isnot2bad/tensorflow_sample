{
 "cells": [
  {
   "cell_type": "code",
   "execution_count": 1,
   "metadata": {},
   "outputs": [],
   "source": [
    "import tensorflow as tf\n",
    "import numpy as np"
   ]
  },
  {
   "cell_type": "code",
   "execution_count": 5,
   "metadata": {},
   "outputs": [
    {
     "name": "stdout",
     "output_type": "stream",
     "text": [
      "0 [0.056187429, 0.10105071]\n",
      "20 [0.10546312, 0.19694752]\n",
      "40 [0.10341331, 0.19809288]\n",
      "60 [0.10213259, 0.19880845]\n",
      "80 [0.10133243, 0.19925553]\n",
      "100 [0.10083249, 0.19953486]\n",
      "120 [0.10052013, 0.19970939]\n",
      "140 [0.10032497, 0.19981843]\n",
      "160 [0.10020301, 0.19988656]\n",
      "180 [0.10012684, 0.19992913]\n",
      "200 [0.10007924, 0.19995573]\n"
     ]
    }
   ],
   "source": [
    "#使用 numpy产生100随机点\n",
    "x_data=np.random.rand(100)\n",
    "y_data=x_data*0.1+0.2\n",
    "\n",
    "#构造线性模型\n",
    "b=tf.Variable(0.)\n",
    "k=tf.Variable(0.)\n",
    "y=k*x_data+b\n",
    "\n",
    "#二次代价函数\n",
    "loss=tf.reduce_mean(tf.square(y_data-y))\n",
    "#定义梯度下降法训练优化器\n",
    "optimizer=tf.train.GradientDescentOptimizer(0.2)\n",
    "#最小化代价函数\n",
    "train=optimizer.minimize(loss)\n",
    "\n",
    "init=tf.global_variables_initializer()\n",
    "\n",
    "with tf.Session() as sess:\n",
    "    sess.run(init)\n",
    "    for step in range(201):\n",
    "        sess.run(train)\n",
    "        if step%20==0:\n",
    "               print(step,sess.run([k,b])) \n",
    "\n"
   ]
  },
  {
   "cell_type": "code",
   "execution_count": null,
   "metadata": {},
   "outputs": [],
   "source": []
  }
 ],
 "metadata": {
  "kernelspec": {
   "display_name": "Python 3",
   "language": "python",
   "name": "python3"
  },
  "language_info": {
   "codemirror_mode": {
    "name": "ipython",
    "version": 3
   },
   "file_extension": ".py",
   "mimetype": "text/x-python",
   "name": "python",
   "nbconvert_exporter": "python",
   "pygments_lexer": "ipython3",
   "version": "3.6.4"
  }
 },
 "nbformat": 4,
 "nbformat_minor": 2
}
